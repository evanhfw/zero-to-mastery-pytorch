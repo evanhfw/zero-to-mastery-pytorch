{
  "nbformat": 4,
  "nbformat_minor": 0,
  "metadata": {
    "colab": {
      "name": "02_pytorch_classification_exercises.ipynb",
      "provenance": [],
      "include_colab_link": true
    },
    "kernelspec": {
      "name": "python3",
      "display_name": "Python 3"
    },
    "language_info": {
      "name": "python"
    },
    "accelerator": "GPU"
  },
  "cells": [
    {
      "cell_type": "markdown",
      "metadata": {
        "id": "view-in-github",
        "colab_type": "text"
      },
      "source": [
        "<a href=\"https://colab.research.google.com/github/evanhfw/zero-to-mastery-pytorch/blob/main/02_pytorch_classification/02_pytorch_classification_exercises.ipynb\" target=\"_parent\"><img src=\"https://colab.research.google.com/assets/colab-badge.svg\" alt=\"Open In Colab\"/></a>"
      ]
    },
    {
      "cell_type": "markdown",
      "source": [
        "# 02. PyTorch Classification Exercises\n",
        "\n",
        "The following is a template for 02. PyTorch Classification exercises.\n",
        "\n",
        "It's only starter code and it's your job to fill in the blanks.\n",
        "\n",
        "Because of the flexibility of PyTorch, there may be more than one way to answer the question.\n",
        "\n",
        "Don't worry about trying to be *right* just try writing code that suffices the question.\n",
        "\n",
        "## Resources\n",
        "* These exercises are based on [notebook 02 of the learn PyTorch course](https://www.learnpytorch.io/02_pytorch_classification/).\n",
        "* You can see one form of [solutions on GitHub](https://github.com/mrdbourke/pytorch-deep-learning/tree/main/extras/solutions) (but try the exercises below yourself first!)."
      ],
      "metadata": {
        "id": "ZKJFt7YxH8yl"
      }
    },
    {
      "cell_type": "code",
      "source": [
        "# Import torch\n",
        "import torch\n",
        "\n",
        "# Setup device agnostic code\n",
        "device = 'cuda' if torch.cuda.is_available() else 'cpu'\n",
        "\n",
        "# Setup random seed\n",
        "RANDOM_SEED = 42"
      ],
      "metadata": {
        "id": "CSrUPgapO0tf"
      },
      "execution_count": 1,
      "outputs": []
    },
    {
      "cell_type": "markdown",
      "source": [
        "## 1. Make a binary classification dataset with Scikit-Learn's [`make_moons()`](https://scikit-learn.org/stable/modules/generated/sklearn.datasets.make_moons.html) function.\n",
        "  * For consistency, the dataset should have 1000 samples and a `random_state=42`.\n",
        "  * Turn the data into PyTorch tensors.\n",
        "  * Split the data into training and test sets using `train_test_split` with 80% training and 20% testing."
      ],
      "metadata": {
        "id": "pH7jIZ2SPFee"
      }
    },
    {
      "cell_type": "code",
      "source": [
        "# Create a dataset with Scikit-Learn's make_moons()\n",
        "from sklearn.datasets import make_moons\n",
        "from sklearn.model_selection import train_test_split\n",
        "\n",
        "X, y = make_moons(1000, random_state=42)\n",
        "# X_train, X_test, y_train, y_test = train_test_split(X, y, test_size=0.2, random_state=42)\n",
        "\n",
        "# X_train = torch.from_numpy(X_train).to(device)\n",
        "# X_test = torch.from_numpy(X_test).to(device)\n",
        "# y_train = torch.from_numpy(y_train).to(device)\n",
        "# y_test = torch.from_numpy(y_test).to(device)"
      ],
      "metadata": {
        "id": "5t4VhPV1PX1X"
      },
      "execution_count": 19,
      "outputs": []
    },
    {
      "cell_type": "code",
      "source": [
        "# Turn data into a DataFrame\n",
        "import pandas as pd\n",
        "df = pd.DataFrame(\n",
        "    {'X1': X[:, 0],\n",
        "     'X2': X[:, 1],\n",
        "     'y': y}\n",
        ")"
      ],
      "metadata": {
        "id": "SUeHZ3-3P9C7"
      },
      "execution_count": 16,
      "outputs": []
    },
    {
      "cell_type": "code",
      "source": [
        "# Visualize the data on a scatter plot\n",
        "import matplotlib.pyplot as plt\n",
        "\n",
        "plt.scatter(X[:,0],\n",
        "            X[:,1],\n",
        "            c=y,\n",
        "            cmap=plt.cm.RdYlBu)"
      ],
      "metadata": {
        "id": "owrkPSFvQPFI",
        "outputId": "b06dc1d9-3031-4d27-d8d5-478e79cee96f",
        "colab": {
          "base_uri": "https://localhost:8080/",
          "height": 447
        }
      },
      "execution_count": 17,
      "outputs": [
        {
          "output_type": "execute_result",
          "data": {
            "text/plain": [
              "<matplotlib.collections.PathCollection at 0x7cbcf5de9900>"
            ]
          },
          "metadata": {},
          "execution_count": 17
        },
        {
          "output_type": "display_data",
          "data": {
            "text/plain": [
              "<Figure size 640x480 with 1 Axes>"
            ],
            "image/png": "[encoded data removed]"
          },
          "metadata": {}
        }
      ]
    },
    {
      "cell_type": "code",
      "source": [
        "# Turn data into tensors of dtype float\n",
        "X, y = make_moons(1000, random_state=42)\n",
        "\n",
        "X = torch.from_numpy(X).type(torch.float).to(device)\n",
        "y = torch.from_numpy(y).type(torch.float).to(device)\n",
        "\n",
        "# Split the data into train and test sets (80% train, 20% test)\n",
        "from sklearn.model_selection import train_test_split\n",
        "X_train, X_test, y_train, y_test = train_test_split(X, y, test_size=.2, random_state=42)"
      ],
      "metadata": {
        "id": "bDhyHn9fR4dq"
      },
      "execution_count": 22,
      "outputs": []
    },
    {
      "cell_type": "markdown",
      "source": [
        "## 2. Build a model by subclassing `nn.Module` that incorporates non-linear activation functions and is capable of fitting the data you created in 1.\n",
        "  * Feel free to use any combination of PyTorch layers (linear and non-linear) you want."
      ],
      "metadata": {
        "id": "cMIjxZdzQfPz"
      }
    },
    {
      "cell_type": "code",
      "source": [
        "import torch\n",
        "from torch import nn\n",
        "\n",
        "# Inherit from nn.Module to make a model capable of fitting the mooon data\n",
        "class MoonModelV0(nn.Module):\n",
        "    ## Your code here ##\n",
        "    def __init__(self):\n",
        "      super().__init__()\n",
        "      self.sequential = nn.Sequential(\n",
        "          nn.Linear(2, 8),\n",
        "          nn.ReLU(),\n",
        "          nn.Linear(8, 64),\n",
        "          nn.ReLU(),\n",
        "          nn.Linear(64, 1)\n",
        "      )\n",
        "\n",
        "    def forward(self, x):\n",
        "        ## Your code here ##\n",
        "        return self.sequential(x)\n",
        "\n",
        "# Instantiate the model\n",
        "## Your code here ##\n",
        "moon_model = MoonModelV0().to(device)\n",
        "# moon_model.state_dict()"
      ],
      "metadata": {
        "id": "hwtyvm34Ri6Q"
      },
      "execution_count": 28,
      "outputs": []
    },
    {
      "cell_type": "markdown",
      "source": [
        "## 3. Setup a binary classification compatible loss function and optimizer to use when training the model built in 2."
      ],
      "metadata": {
        "id": "DSj97RwyVeFE"
      }
    },
    {
      "cell_type": "code",
      "source": [
        "# Setup loss function\n",
        "loss_fn = nn.BCEWithLogitsLoss()\n",
        "\n",
        "# Setup optimizer to optimize model's parameters\n",
        "optim = torch.optim.Adam(moon_model.parameters(), 0.001)"
      ],
      "metadata": {
        "id": "whSGw5qgVvxU"
      },
      "execution_count": 29,
      "outputs": []
    },
    {
      "cell_type": "markdown",
      "source": [
        "## 4. Create a training and testing loop to fit the model you created in 2 to the data you created in 1.\n",
        "  * Do a forward pass of the model to see what's coming out in the form of logits, prediction probabilities and labels.\n",
        "  * To measure model accuray, you can create your own accuracy function or use the accuracy function in [TorchMetrics](https://torchmetrics.readthedocs.io/en/latest/).\n",
        "  * Train the model for long enough for it to reach over 96% accuracy.\n",
        "  * The training loop should output progress every 10 epochs of the model's training and test set loss and accuracy."
      ],
      "metadata": {
        "id": "nvk4PfNTWUAt"
      }
    },
    {
      "cell_type": "code",
      "source": [
        "# What's coming out of our model?\n",
        "\n",
        "# logits (raw outputs of model)\n",
        "print(f\"Logits: {moon_model(X_train).squeeze()}\")\n",
        "## Your code here ##\n",
        "\n",
        "# Prediction probabilities\n",
        "print(f\"Pred probs: {torch.sigmoid(moon_model(X_train).squeeze())}\")\n",
        "## Your code here ##\n",
        "\n",
        "# Prediction labels\n",
        "print(f\"Pred labels: {torch.round(torch.sigmoid(moon_model(X_train).squeeze()))}\")\n",
        "## Your code here ##"
      ],
      "metadata": {
        "colab": {
          "base_uri": "https://localhost:8080/"
        },
        "id": "AgnFdlamd2-D",
        "outputId": "a15fd997-27a6-4d06-f2b2-9f669e48c9d1"
      },
      "execution_count": 36,
      "outputs": [
        {
          "output_type": "stream",
          "name": "stdout",
          "text": [
            "Logits: tensor([-0.1849,  0.0456,  0.0163,  0.0177,  0.0739,  0.0228,  0.0617,  0.0562,\n",
            "        -0.0505,  0.0490,  0.0479,  0.0127,  0.0486, -0.0293, -0.0671,  0.0275,\n",
            "        -0.0834,  0.0225,  0.0383,  0.0295, -0.1873, -0.1401,  0.0521, -0.0738,\n",
            "         0.0257,  0.0159, -0.0816, -0.0484, -0.0617, -0.0662,  0.0373, -0.0863,\n",
            "        -0.0873, -0.1629,  0.0534, -0.0729, -0.2266,  0.0105,  0.0675,  0.0796,\n",
            "         0.0656, -0.0728,  0.0293, -0.0825,  0.0308, -0.1511,  0.0223, -0.0775,\n",
            "         0.0285,  0.0351,  0.0196,  0.0812,  0.0330,  0.0419,  0.0023,  0.0798,\n",
            "        -0.0728, -0.1738, -0.0137,  0.0564,  0.0409, -0.0852, -0.0881, -0.0365,\n",
            "         0.0430, -0.0845,  0.0724,  0.0029,  0.0506, -0.0699, -0.1093,  0.0462,\n",
            "        -0.0531, -0.0877,  0.0318, -0.0743,  0.0305,  0.0146, -0.0854,  0.0363,\n",
            "         0.0814, -0.0418,  0.0307, -0.1838, -0.0719, -0.0882, -0.0704,  0.0591,\n",
            "         0.0335, -0.1083,  0.0385, -0.0898, -0.0512,  0.0369, -0.0747,  0.0441,\n",
            "         0.0281,  0.0758,  0.0410,  0.0491,  0.0185, -0.0130, -0.0666,  0.0510,\n",
            "         0.0154,  0.0590, -0.0591, -0.0714, -0.0679,  0.0265, -0.0923,  0.0544,\n",
            "        -0.0716, -0.0694,  0.0632, -0.0605, -0.1381, -0.1291, -0.0325, -0.1605,\n",
            "         0.0270, -0.0595,  0.0509, -0.1768,  0.0349,  0.0528, -0.0546, -0.0790,\n",
            "         0.0660, -0.2274,  0.0499,  0.0453,  0.0793,  0.0415,  0.0431, -0.0077,\n",
            "        -0.0689, -0.0623, -0.2125,  0.0810, -0.1699,  0.0817, -0.0837,  0.0550,\n",
            "         0.0703, -0.0710,  0.0472, -0.0333,  0.0365, -0.0586,  0.0607,  0.0436,\n",
            "         0.0136,  0.0482, -0.0344, -0.0850,  0.0478,  0.0453,  0.0322, -0.1271,\n",
            "         0.0601,  0.0288, -0.0828,  0.0688, -0.0982, -0.1361,  0.0712, -0.0349,\n",
            "        -0.2233, -0.0757,  0.0274,  0.0517, -0.0793, -0.2225,  0.0802,  0.0744,\n",
            "         0.0777,  0.0151, -0.0586, -0.1239, -0.0403, -0.1481, -0.2208, -0.0761,\n",
            "         0.0267,  0.0396,  0.0552,  0.0170, -0.0803,  0.0401, -0.0738, -0.0869,\n",
            "         0.0797, -0.0573, -0.0773,  0.0818,  0.0466, -0.2069, -0.0568, -0.0939,\n",
            "        -0.0260,  0.0414,  0.0487, -0.0858, -0.2183, -0.1250,  0.0357, -0.1052,\n",
            "        -0.1124,  0.0365, -0.0140, -0.0301,  0.0784,  0.0347,  0.0209,  0.0166,\n",
            "        -0.0020, -0.0842, -0.2176, -0.0519, -0.0011, -0.0448,  0.0375,  0.0320,\n",
            "         0.0487, -0.0395, -0.0856, -0.0825,  0.0469, -0.1341,  0.0313,  0.0428,\n",
            "         0.0238, -0.1187, -0.0876,  0.0767,  0.0363,  0.0367,  0.0523,  0.0522,\n",
            "        -0.0810, -0.0243, -0.1934,  0.0382, -0.1802, -0.0477,  0.0307,  0.0144,\n",
            "        -0.0099,  0.0597,  0.0395,  0.0428, -0.0842,  0.0703, -0.0879, -0.1104,\n",
            "        -0.0201,  0.0418,  0.0121, -0.0194,  0.0240, -0.0540,  0.0606,  0.0556,\n",
            "        -0.0455,  0.0772, -0.0880, -0.0690,  0.0503,  0.0612,  0.0393,  0.0433,\n",
            "         0.0579,  0.0297,  0.0383, -0.0221, -0.0763,  0.0062, -0.2016,  0.0048,\n",
            "         0.0259, -0.0253, -0.0870,  0.0391,  0.0220, -0.2105,  0.0277, -0.0756,\n",
            "         0.0498,  0.0411, -0.0850,  0.0765,  0.0175,  0.0319, -0.0878, -0.0407,\n",
            "         0.0486,  0.0540,  0.0716,  0.0365,  0.0665,  0.0157, -0.0830, -0.0100,\n",
            "        -0.1641,  0.0501, -0.0459, -0.0014,  0.0502, -0.1073, -0.1501,  0.0230,\n",
            "         0.0282, -0.1331, -0.0156,  0.0487, -0.2115,  0.0569, -0.0863,  0.0360,\n",
            "         0.0257,  0.0504,  0.0231,  0.0504,  0.0353,  0.0500, -0.0191,  0.0539,\n",
            "        -0.1906, -0.0181, -0.0800, -0.0861, -0.0866, -0.0251, -0.0428,  0.0204,\n",
            "         0.0442,  0.0233,  0.0117,  0.0780, -0.1791, -0.0813, -0.0046,  0.0300,\n",
            "        -0.2141, -0.0558,  0.0310,  0.0515, -0.0652,  0.0678, -0.0462, -0.0881,\n",
            "         0.0216, -0.0660,  0.0586, -0.0850, -0.0874,  0.0788, -0.1593, -0.1758,\n",
            "         0.0397, -0.0857, -0.0620, -0.1208,  0.0172,  0.0689, -0.0822, -0.0166,\n",
            "         0.0389,  0.0278,  0.0289,  0.0018, -0.1915,  0.0612, -0.0859, -0.0879,\n",
            "         0.0289,  0.0399, -0.2290,  0.0404, -0.0874,  0.0286, -0.0766,  0.0388,\n",
            "         0.0438,  0.0315, -0.0869, -0.1431, -0.1351,  0.0355, -0.0840,  0.0371,\n",
            "        -0.0854, -0.2087,  0.0519, -0.1779,  0.0486,  0.0290, -0.2034, -0.1471,\n",
            "        -0.1166,  0.0488,  0.0261,  0.0292, -0.2051,  0.0139, -0.1861,  0.0450,\n",
            "        -0.2148, -0.0418,  0.0526,  0.0482,  0.0529,  0.0332,  0.0206, -0.0768,\n",
            "         0.0651, -0.0498,  0.0360,  0.0201,  0.0503,  0.0446, -0.0175,  0.0506,\n",
            "         0.0209,  0.0471,  0.0478, -0.0410, -0.0766,  0.0015,  0.0516,  0.0801,\n",
            "         0.0236,  0.0789, -0.0504, -0.0606, -0.0859, -0.0204,  0.0358,  0.0567,\n",
            "        -0.0598,  0.0467,  0.0683, -0.0725, -0.0634,  0.0488,  0.0489, -0.0758,\n",
            "        -0.1197,  0.0263, -0.0231, -0.0751,  0.0370, -0.1451,  0.0198,  0.0376,\n",
            "         0.0804, -0.0624,  0.0707,  0.0411, -0.2134, -0.1952,  0.0425,  0.0399,\n",
            "        -0.0605,  0.0484,  0.0141,  0.0149,  0.0325,  0.0487,  0.0806,  0.0469,\n",
            "         0.0800, -0.0185,  0.0244,  0.0653, -0.0636,  0.0455, -0.2155, -0.1521,\n",
            "        -0.0611, -0.0865, -0.0035, -0.0931, -0.0630,  0.0510,  0.0372, -0.0890,\n",
            "        -0.1281,  0.0425, -0.1491, -0.0792, -0.0553, -0.1689,  0.0301, -0.0867,\n",
            "        -0.0491,  0.0439, -0.0549,  0.0734,  0.0499,  0.0356,  0.0313, -0.0819,\n",
            "        -0.0293, -0.0579,  0.0094, -0.0486, -0.1961,  0.0327,  0.0385, -0.1421,\n",
            "        -0.0880, -0.1989,  0.0391,  0.0344,  0.0159, -0.0341,  0.0819,  0.0212,\n",
            "         0.0402, -0.0277,  0.0781, -0.0214,  0.0493, -0.0735,  0.0336,  0.0443,\n",
            "         0.0459, -0.1145,  0.0444,  0.0354, -0.0147,  0.0602,  0.0237, -0.0073,\n",
            "        -0.0819, -0.0386, -0.1924,  0.0473,  0.0365, -0.0233, -0.0718,  0.0584,\n",
            "         0.0368, -0.0067, -0.0599, -0.0002,  0.0439, -0.0875, -0.0698, -0.0747,\n",
            "        -0.0831,  0.0373,  0.0365,  0.0073,  0.0365,  0.0573,  0.0622,  0.0489,\n",
            "        -0.2191,  0.0617,  0.0507,  0.0498, -0.0822,  0.0693, -0.0539,  0.0642,\n",
            "         0.0534,  0.0638, -0.0120, -0.0671,  0.0339,  0.0397,  0.0418,  0.0487,\n",
            "        -0.1678,  0.0296, -0.1569, -0.0171, -0.2078,  0.0218,  0.0040,  0.0505,\n",
            "        -0.0161, -0.1301, -0.0425, -0.0915, -0.1665, -0.1371, -0.1979, -0.1896,\n",
            "         0.0302,  0.0316,  0.0527, -0.0797, -0.0744, -0.0334,  0.0497,  0.0628,\n",
            "         0.0359,  0.0546,  0.0498,  0.0815,  0.0493,  0.0413,  0.0407, -0.1177,\n",
            "         0.0447, -0.0357, -0.0433,  0.0354, -0.2060,  0.0097, -0.0056,  0.0393,\n",
            "         0.0511, -0.0046,  0.0465,  0.0188, -0.0613,  0.0195,  0.0340,  0.0113,\n",
            "        -0.0868, -0.0833, -0.1114, -0.0592,  0.0453, -0.1391,  0.0490,  0.0361,\n",
            "         0.0379,  0.0131,  0.0403, -0.0786, -0.0771, -0.1311,  0.0006,  0.0763,\n",
            "         0.0407,  0.0381, -0.0647, -0.0847, -0.0879, -0.0469, -0.0813, -0.1617,\n",
            "         0.0374,  0.0761,  0.0812,  0.0128,  0.0173, -0.0750,  0.0451, -0.2199,\n",
            "        -0.0778,  0.0325,  0.0531,  0.0284, -0.1441, -0.0088,  0.0423, -0.0810,\n",
            "        -0.0782,  0.0622, -0.1032, -0.0738,  0.0480, -0.0877, -0.0858, -0.1002,\n",
            "         0.0323,  0.0346,  0.0805, -0.0907,  0.0773,  0.0684, -0.1748,  0.0273,\n",
            "         0.0299,  0.0032, -0.0513,  0.0356, -0.1022,  0.0637,  0.0753,  0.0161,\n",
            "        -0.0685,  0.0490, -0.0450, -0.0709,  0.0242,  0.0496,  0.0749, -0.2241,\n",
            "        -0.0799, -0.0828,  0.0776,  0.0182, -0.0834,  0.0416,  0.0365,  0.0464,\n",
            "        -0.0064, -0.1461,  0.0474,  0.0495, -0.1229, -0.1556,  0.0144,  0.0575,\n",
            "         0.0729,  0.0489, -0.0128,  0.0181,  0.0366, -0.1042, -0.2306,  0.0558,\n",
            "         0.0739,  0.0359, -0.1321, -0.1943, -0.0843,  0.0129, -0.0119,  0.0485,\n",
            "         0.0458,  0.0491,  0.0165,  0.0421,  0.0360, -0.0309, -0.2095,  0.0486,\n",
            "        -0.0704, -0.0760,  0.0134,  0.0253,  0.0488, -0.0722, -0.2043, -0.0871,\n",
            "         0.0460, -0.0768, -0.0314, -0.0055, -0.0376,  0.0580, -0.1998, -0.0709,\n",
            "         0.0485,  0.0089,  0.0215, -0.0676, -0.2216, -0.0796,  0.0151, -0.0150,\n",
            "         0.0312, -0.0380, -0.1135,  0.0065, -0.0273, -0.0532,  0.0375,  0.0405,\n",
            "         0.0734, -0.0372,  0.0432, -0.0661, -0.1581,  0.0072,  0.0168,  0.0743,\n",
            "        -0.0788, -0.0025, -0.1709, -0.0397,  0.0752,  0.0040, -0.0777, -0.0633,\n",
            "        -0.0724,  0.0331,  0.0362,  0.0404,  0.0680, -0.0826,  0.0432,  0.0276,\n",
            "         0.0496, -0.0263,  0.0524,  0.0521,  0.0520,  0.0364, -0.0673, -0.1728],\n",
            "       device='cuda:0', grad_fn=<SqueezeBackward0>)\n",
            "Pred probs: tensor([0.4539, 0.5114, 0.5041, 0.5044, 0.5185, 0.5057, 0.5154, 0.5140, 0.4874,\n",
            "        0.5122, 0.5120, 0.5032, 0.5122, 0.4927, 0.4832, 0.5069, 0.4792, 0.5056,\n",
            "        0.5096, 0.5074, 0.4533, 0.4650, 0.5130, 0.4816, 0.5064, 0.5040, 0.4796,\n",
            "        0.4879, 0.4846, 0.4835, 0.5093, 0.4784, 0.4782, 0.4594, 0.5133, 0.4818,\n",
            "        0.4436, 0.5026, 0.5169, 0.5199, 0.5164, 0.4818, 0.5073, 0.4794, 0.5077,\n",
            "        0.4623, 0.5056, 0.4806, 0.5071, 0.5088, 0.5049, 0.5203, 0.5083, 0.5105,\n",
            "        0.5006, 0.5199, 0.4818, 0.4567, 0.4966, 0.5141, 0.5102, 0.4787, 0.4780,\n",
            "        0.4909, 0.5107, 0.4789, 0.5181, 0.5007, 0.5127, 0.4825, 0.4727, 0.5116,\n",
            "        0.4867, 0.4781, 0.5080, 0.4814, 0.5076, 0.5037, 0.4787, 0.5091, 0.5203,\n",
            "        0.4896, 0.5077, 0.4542, 0.4820, 0.4780, 0.4824, 0.5148, 0.5084, 0.4730,\n",
            "        0.5096, 0.4776, 0.4872, 0.5092, 0.4813, 0.5110, 0.5070, 0.5189, 0.5102,\n",
            "        0.5123, 0.5046, 0.4968, 0.4833, 0.5128, 0.5039, 0.5147, 0.4852, 0.4821,\n",
            "        0.4830, 0.5066, 0.4769, 0.5136, 0.4821, 0.4827, 0.5158, 0.4849, 0.4655,\n",
            "        0.4678, 0.4919, 0.4600, 0.5068, 0.4851, 0.5127, 0.4559, 0.5087, 0.5132,\n",
            "        0.4864, 0.4803, 0.5165, 0.4434, 0.5125, 0.5113, 0.5198, 0.5104, 0.5108,\n",
            "        0.4981, 0.4828, 0.4844, 0.4471, 0.5202, 0.4576, 0.5204, 0.4791, 0.5138,\n",
            "        0.5176, 0.4823, 0.5118, 0.4917, 0.5091, 0.4854, 0.5152, 0.5109, 0.5034,\n",
            "        0.5120, 0.4914, 0.4788, 0.5119, 0.5113, 0.5080, 0.4683, 0.5150, 0.5072,\n",
            "        0.4793, 0.5172, 0.4755, 0.4660, 0.5178, 0.4913, 0.4444, 0.4811, 0.5069,\n",
            "        0.5129, 0.4802, 0.4446, 0.5200, 0.5186, 0.5194, 0.5038, 0.4854, 0.4691,\n",
            "        0.4899, 0.4630, 0.4450, 0.4810, 0.5067, 0.5099, 0.5138, 0.5042, 0.4799,\n",
            "        0.5100, 0.4816, 0.4783, 0.5199, 0.4857, 0.4807, 0.5204, 0.5116, 0.4485,\n",
            "        0.4858, 0.4765, 0.4935, 0.5103, 0.5122, 0.4786, 0.4456, 0.4688, 0.5089,\n",
            "        0.4737, 0.4719, 0.5091, 0.4965, 0.4925, 0.5196, 0.5087, 0.5052, 0.5042,\n",
            "        0.4995, 0.4790, 0.4458, 0.4870, 0.4997, 0.4888, 0.5094, 0.5080, 0.5122,\n",
            "        0.4901, 0.4786, 0.4794, 0.5117, 0.4665, 0.5078, 0.5107, 0.5060, 0.4704,\n",
            "        0.4781, 0.5192, 0.5091, 0.5092, 0.5131, 0.5130, 0.4798, 0.4939, 0.4518,\n",
            "        0.5095, 0.4551, 0.4881, 0.5077, 0.5036, 0.4975, 0.5149, 0.5099, 0.5107,\n",
            "        0.4790, 0.5176, 0.4780, 0.4724, 0.4950, 0.5105, 0.5030, 0.4951, 0.5060,\n",
            "        0.4865, 0.5151, 0.5139, 0.4886, 0.5193, 0.4780, 0.4828, 0.5126, 0.5153,\n",
            "        0.5098, 0.5108, 0.5145, 0.5074, 0.5096, 0.4945, 0.4809, 0.5015, 0.4498,\n",
            "        0.5012, 0.5065, 0.4937, 0.4783, 0.5098, 0.5055, 0.4476, 0.5069, 0.4811,\n",
            "        0.5124, 0.5103, 0.4788, 0.5191, 0.5044, 0.5080, 0.4781, 0.4898, 0.5121,\n",
            "        0.5135, 0.5179, 0.5091, 0.5166, 0.5039, 0.4793, 0.4975, 0.4591, 0.5125,\n",
            "        0.4885, 0.4996, 0.5125, 0.4732, 0.4625, 0.5057, 0.5071, 0.4668, 0.4961,\n",
            "        0.5122, 0.4473, 0.5142, 0.4784, 0.5090, 0.5064, 0.5126, 0.5058, 0.5126,\n",
            "        0.5088, 0.5125, 0.4952, 0.5135, 0.4525, 0.4955, 0.4800, 0.4785, 0.4784,\n",
            "        0.4937, 0.4893, 0.5051, 0.5110, 0.5058, 0.5029, 0.5195, 0.4554, 0.4797,\n",
            "        0.4989, 0.5075, 0.4467, 0.4860, 0.5077, 0.5129, 0.4837, 0.5170, 0.4884,\n",
            "        0.4780, 0.5054, 0.4835, 0.5146, 0.4788, 0.4782, 0.5197, 0.4603, 0.4562,\n",
            "        0.5099, 0.4786, 0.4845, 0.4698, 0.5043, 0.5172, 0.4795, 0.4959, 0.5097,\n",
            "        0.5070, 0.5072, 0.5005, 0.4523, 0.5153, 0.4785, 0.4780, 0.5072, 0.5100,\n",
            "        0.4430, 0.5101, 0.4782, 0.5072, 0.4809, 0.5097, 0.5110, 0.5079, 0.4783,\n",
            "        0.4643, 0.4663, 0.5089, 0.4790, 0.5093, 0.4787, 0.4480, 0.5130, 0.4556,\n",
            "        0.5121, 0.5073, 0.4493, 0.4633, 0.4709, 0.5122, 0.5065, 0.5073, 0.4489,\n",
            "        0.5035, 0.4536, 0.5112, 0.4465, 0.4896, 0.5131, 0.5121, 0.5132, 0.5083,\n",
            "        0.5052, 0.4808, 0.5163, 0.4876, 0.5090, 0.5050, 0.5126, 0.5111, 0.4956,\n",
            "        0.5126, 0.5052, 0.5118, 0.5119, 0.4897, 0.4808, 0.5004, 0.5129, 0.5200,\n",
            "        0.5059, 0.5197, 0.4874, 0.4848, 0.4785, 0.4949, 0.5090, 0.5142, 0.4850,\n",
            "        0.5117, 0.5171, 0.4819, 0.4842, 0.5122, 0.5122, 0.4811, 0.4701, 0.5066,\n",
            "        0.4942, 0.4812, 0.5092, 0.4638, 0.5050, 0.5094, 0.5201, 0.4844, 0.5177,\n",
            "        0.5103, 0.4468, 0.4514, 0.5106, 0.5100, 0.4849, 0.5121, 0.5035, 0.5037,\n",
            "        0.5081, 0.5122, 0.5201, 0.5117, 0.5200, 0.4954, 0.5061, 0.5163, 0.4841,\n",
            "        0.5114, 0.4463, 0.4620, 0.4847, 0.4784, 0.4991, 0.4767, 0.4843, 0.5127,\n",
            "        0.5093, 0.4778, 0.4680, 0.5106, 0.4628, 0.4802, 0.4862, 0.4579, 0.5075,\n",
            "        0.4783, 0.4877, 0.5110, 0.4863, 0.5183, 0.5125, 0.5089, 0.5078, 0.4795,\n",
            "        0.4927, 0.4855, 0.5024, 0.4879, 0.4511, 0.5082, 0.5096, 0.4645, 0.4780,\n",
            "        0.4504, 0.5098, 0.5086, 0.5040, 0.4915, 0.5205, 0.5053, 0.5100, 0.4931,\n",
            "        0.5195, 0.4947, 0.5123, 0.4816, 0.5084, 0.5111, 0.5115, 0.4714, 0.5111,\n",
            "        0.5089, 0.4963, 0.5150, 0.5059, 0.4982, 0.4795, 0.4903, 0.4520, 0.5118,\n",
            "        0.5091, 0.4942, 0.4820, 0.5146, 0.5092, 0.4983, 0.4850, 0.4999, 0.5110,\n",
            "        0.4781, 0.4826, 0.4813, 0.4792, 0.5093, 0.5091, 0.5018, 0.5091, 0.5143,\n",
            "        0.5156, 0.5122, 0.4454, 0.5154, 0.5127, 0.5125, 0.4795, 0.5173, 0.4865,\n",
            "        0.5160, 0.5133, 0.5159, 0.4970, 0.4832, 0.5085, 0.5099, 0.5104, 0.5122,\n",
            "        0.4582, 0.5074, 0.4609, 0.4957, 0.4482, 0.5055, 0.5010, 0.5126, 0.4960,\n",
            "        0.4675, 0.4894, 0.4771, 0.4585, 0.4658, 0.4507, 0.4527, 0.5075, 0.5079,\n",
            "        0.5132, 0.4801, 0.4814, 0.4916, 0.5124, 0.5157, 0.5090, 0.5136, 0.5124,\n",
            "        0.5204, 0.5123, 0.5103, 0.5102, 0.4706, 0.5112, 0.4911, 0.4892, 0.5089,\n",
            "        0.4487, 0.5024, 0.4986, 0.5098, 0.5128, 0.4988, 0.5116, 0.5047, 0.4847,\n",
            "        0.5049, 0.5085, 0.5028, 0.4783, 0.4792, 0.4722, 0.4852, 0.5113, 0.4653,\n",
            "        0.5122, 0.5090, 0.5095, 0.5033, 0.5101, 0.4804, 0.4807, 0.4673, 0.5002,\n",
            "        0.5191, 0.5102, 0.5095, 0.4838, 0.4788, 0.4780, 0.4883, 0.4797, 0.4597,\n",
            "        0.5093, 0.5190, 0.5203, 0.5032, 0.5043, 0.4813, 0.5113, 0.4452, 0.4806,\n",
            "        0.5081, 0.5133, 0.5071, 0.4640, 0.4978, 0.5106, 0.4798, 0.4805, 0.5156,\n",
            "        0.4742, 0.4816, 0.5120, 0.4781, 0.4786, 0.4750, 0.5081, 0.5086, 0.5201,\n",
            "        0.4774, 0.5193, 0.5171, 0.4564, 0.5068, 0.5075, 0.5008, 0.4872, 0.5089,\n",
            "        0.4745, 0.5159, 0.5188, 0.5040, 0.4829, 0.5122, 0.4888, 0.4823, 0.5061,\n",
            "        0.5124, 0.5187, 0.4442, 0.4800, 0.4793, 0.5194, 0.5046, 0.4792, 0.5104,\n",
            "        0.5091, 0.5116, 0.4984, 0.4635, 0.5118, 0.5124, 0.4693, 0.4612, 0.5036,\n",
            "        0.5144, 0.5182, 0.5122, 0.4968, 0.5045, 0.5091, 0.4740, 0.4426, 0.5139,\n",
            "        0.5185, 0.5090, 0.4670, 0.4516, 0.4789, 0.5032, 0.4970, 0.5121, 0.5114,\n",
            "        0.5123, 0.5041, 0.5105, 0.5090, 0.4923, 0.4478, 0.5121, 0.4824, 0.4810,\n",
            "        0.5033, 0.5063, 0.5122, 0.4820, 0.4491, 0.4782, 0.5115, 0.4808, 0.4922,\n",
            "        0.4986, 0.4906, 0.5145, 0.4502, 0.4823, 0.5121, 0.5022, 0.5054, 0.4831,\n",
            "        0.4448, 0.4801, 0.5038, 0.4962, 0.5078, 0.4905, 0.4717, 0.5016, 0.4932,\n",
            "        0.4867, 0.5094, 0.5101, 0.5184, 0.4907, 0.5108, 0.4835, 0.4606, 0.5018,\n",
            "        0.5042, 0.5186, 0.4803, 0.4994, 0.4574, 0.4901, 0.5188, 0.5010, 0.4806,\n",
            "        0.4842, 0.4819, 0.5083, 0.5090, 0.5101, 0.5170, 0.4794, 0.5108, 0.5069,\n",
            "        0.5124, 0.4934, 0.5131, 0.5130, 0.5130, 0.5091, 0.4832, 0.4569],\n",
            "       device='cuda:0', grad_fn=<SigmoidBackward0>)\n",
            "Pred labels: tensor([0., 1., 1., 1., 1., 1., 1., 1., 0., 1., 1., 1., 1., 0., 0., 1., 0., 1.,\n",
            "        1., 1., 0., 0., 1., 0., 1., 1., 0., 0., 0., 0., 1., 0., 0., 0., 1., 0.,\n",
            "        0., 1., 1., 1., 1., 0., 1., 0., 1., 0., 1., 0., 1., 1., 1., 1., 1., 1.,\n",
            "        1., 1., 0., 0., 0., 1., 1., 0., 0., 0., 1., 0., 1., 1., 1., 0., 0., 1.,\n",
            "        0., 0., 1., 0., 1., 1., 0., 1., 1., 0., 1., 0., 0., 0., 0., 1., 1., 0.,\n",
            "        1., 0., 0., 1., 0., 1., 1., 1., 1., 1., 1., 0., 0., 1., 1., 1., 0., 0.,\n",
            "        0., 1., 0., 1., 0., 0., 1., 0., 0., 0., 0., 0., 1., 0., 1., 0., 1., 1.,\n",
            "        0., 0., 1., 0., 1., 1., 1., 1., 1., 0., 0., 0., 0., 1., 0., 1., 0., 1.,\n",
            "        1., 0., 1., 0., 1., 0., 1., 1., 1., 1., 0., 0., 1., 1., 1., 0., 1., 1.,\n",
            "        0., 1., 0., 0., 1., 0., 0., 0., 1., 1., 0., 0., 1., 1., 1., 1., 0., 0.,\n",
            "        0., 0., 0., 0., 1., 1., 1., 1., 0., 1., 0., 0., 1., 0., 0., 1., 1., 0.,\n",
            "        0., 0., 0., 1., 1., 0., 0., 0., 1., 0., 0., 1., 0., 0., 1., 1., 1., 1.,\n",
            "        0., 0., 0., 0., 0., 0., 1., 1., 1., 0., 0., 0., 1., 0., 1., 1., 1., 0.,\n",
            "        0., 1., 1., 1., 1., 1., 0., 0., 0., 1., 0., 0., 1., 1., 0., 1., 1., 1.,\n",
            "        0., 1., 0., 0., 0., 1., 1., 0., 1., 0., 1., 1., 0., 1., 0., 0., 1., 1.,\n",
            "        1., 1., 1., 1., 1., 0., 0., 1., 0., 1., 1., 0., 0., 1., 1., 0., 1., 0.,\n",
            "        1., 1., 0., 1., 1., 1., 0., 0., 1., 1., 1., 1., 1., 1., 0., 0., 0., 1.,\n",
            "        0., 0., 1., 0., 0., 1., 1., 0., 0., 1., 0., 1., 0., 1., 1., 1., 1., 1.,\n",
            "        1., 1., 0., 1., 0., 0., 0., 0., 0., 0., 0., 1., 1., 1., 1., 1., 0., 0.,\n",
            "        0., 1., 0., 0., 1., 1., 0., 1., 0., 0., 1., 0., 1., 0., 0., 1., 0., 0.,\n",
            "        1., 0., 0., 0., 1., 1., 0., 0., 1., 1., 1., 1., 0., 1., 0., 0., 1., 1.,\n",
            "        0., 1., 0., 1., 0., 1., 1., 1., 0., 0., 0., 1., 0., 1., 0., 0., 1., 0.,\n",
            "        1., 1., 0., 0., 0., 1., 1., 1., 0., 1., 0., 1., 0., 0., 1., 1., 1., 1.,\n",
            "        1., 0., 1., 0., 1., 1., 1., 1., 0., 1., 1., 1., 1., 0., 0., 1., 1., 1.,\n",
            "        1., 1., 0., 0., 0., 0., 1., 1., 0., 1., 1., 0., 0., 1., 1., 0., 0., 1.,\n",
            "        0., 0., 1., 0., 1., 1., 1., 0., 1., 1., 0., 0., 1., 1., 0., 1., 1., 1.,\n",
            "        1., 1., 1., 1., 1., 0., 1., 1., 0., 1., 0., 0., 0., 0., 0., 0., 0., 1.,\n",
            "        1., 0., 0., 1., 0., 0., 0., 0., 1., 0., 0., 1., 0., 1., 1., 1., 1., 0.,\n",
            "        0., 0., 1., 0., 0., 1., 1., 0., 0., 0., 1., 1., 1., 0., 1., 1., 1., 0.,\n",
            "        1., 0., 1., 0., 1., 1., 1., 0., 1., 1., 0., 1., 1., 0., 0., 0., 0., 1.,\n",
            "        1., 0., 0., 1., 1., 0., 0., 0., 1., 0., 0., 0., 0., 1., 1., 1., 1., 1.,\n",
            "        1., 1., 0., 1., 1., 1., 0., 1., 0., 1., 1., 1., 0., 0., 1., 1., 1., 1.,\n",
            "        0., 1., 0., 0., 0., 1., 1., 1., 0., 0., 0., 0., 0., 0., 0., 0., 1., 1.,\n",
            "        1., 0., 0., 0., 1., 1., 1., 1., 1., 1., 1., 1., 1., 0., 1., 0., 0., 1.,\n",
            "        0., 1., 0., 1., 1., 0., 1., 1., 0., 1., 1., 1., 0., 0., 0., 0., 1., 0.,\n",
            "        1., 1., 1., 1., 1., 0., 0., 0., 1., 1., 1., 1., 0., 0., 0., 0., 0., 0.,\n",
            "        1., 1., 1., 1., 1., 0., 1., 0., 0., 1., 1., 1., 0., 0., 1., 0., 0., 1.,\n",
            "        0., 0., 1., 0., 0., 0., 1., 1., 1., 0., 1., 1., 0., 1., 1., 1., 0., 1.,\n",
            "        0., 1., 1., 1., 0., 1., 0., 0., 1., 1., 1., 0., 0., 0., 1., 1., 0., 1.,\n",
            "        1., 1., 0., 0., 1., 1., 0., 0., 1., 1., 1., 1., 0., 1., 1., 0., 0., 1.,\n",
            "        1., 1., 0., 0., 0., 1., 0., 1., 1., 1., 1., 1., 1., 0., 0., 1., 0., 0.,\n",
            "        1., 1., 1., 0., 0., 0., 1., 0., 0., 0., 0., 1., 0., 0., 1., 1., 1., 0.,\n",
            "        0., 0., 1., 0., 1., 0., 0., 1., 0., 0., 1., 1., 1., 0., 1., 0., 0., 1.,\n",
            "        1., 1., 0., 0., 0., 0., 1., 1., 0., 0., 0., 1., 1., 1., 1., 0., 1., 1.,\n",
            "        1., 0., 1., 1., 1., 1., 0., 0.], device='cuda:0',\n",
            "       grad_fn=<RoundBackward0>)\n"
          ]
        }
      ]
    },
    {
      "cell_type": "code",
      "source": [
        "# Let's calculuate the accuracy using accuracy from TorchMetrics\n",
        "!pip -q install torchmetrics # Colab doesn't come with torchmetrics\n",
        "from torchmetrics import Accuracy\n",
        "\n",
        "## TODO: Uncomment this code to use the Accuracy function\n",
        "# acc_fn = Accuracy(task=\"multiclass\", num_classes=2).to(device) # send accuracy function to device\n",
        "# acc_fn"
      ],
      "metadata": {
        "id": "rUSDNHB4euoJ"
      },
      "execution_count": null,
      "outputs": []
    },
    {
      "cell_type": "code",
      "source": [
        "## TODO: Uncomment this to set the seed\n",
        "# torch.manual_seed(RANDOM_SEED)\n",
        "\n",
        "# Setup epochs\n",
        "\n",
        "\n",
        "# Send data to the device\n",
        "\n",
        "\n",
        "# Loop through the data\n",
        "# for epoch in range(epochs):\n",
        "  ### Training\n",
        "\n",
        "\n",
        "  # 1. Forward pass (logits output)\n",
        "\n",
        "  # Turn logits into prediction probabilities\n",
        "\n",
        "\n",
        "  # Turn prediction probabilities into prediction labels\n",
        "\n",
        "\n",
        "  # 2. Calculaute the loss\n",
        "  # loss = loss_fn(y_logits, y_train) # loss = compare model raw outputs to desired model outputs\n",
        "\n",
        "  # Calculate the accuracy\n",
        "  # acc = acc_fn(y_pred, y_train.int()) # the accuracy function needs to compare pred labels (not logits) with actual labels\n",
        "\n",
        "  # 3. Zero the gradients\n",
        "\n",
        "\n",
        "  # 4. Loss backward (perform backpropagation) - https://brilliant.org/wiki/backpropagation/#:~:text=Backpropagation%2C%20short%20for%20%22backward%20propagation,to%20the%20neural%20network's%20weights.\n",
        "\n",
        "  # 5. Step the optimizer (gradient descent) - https://towardsdatascience.com/gradient-descent-algorithm-a-deep-dive-cf04e8115f21#:~:text=Gradient%20descent%20(GD)%20is%20an,e.g.%20in%20a%20linear%20regression)\n",
        "\n",
        "\n",
        "  ### Testing\n",
        "  # model_0.eval()\n",
        "  # with torch.inference_mode():\n",
        "    # 1. Forward pass (to get the logits)\n",
        "\n",
        "    # Turn the test logits into prediction labels\n",
        "\n",
        "\n",
        "    # 2. Caculate the test loss/acc\n",
        "\n",
        "\n",
        "  # Print out what's happening every 100 epochs\n",
        "  # if epoch % 100 == 0:\n",
        ""
      ],
      "metadata": {
        "id": "SHBY3h7XXnxt"
      },
      "execution_count": null,
      "outputs": []
    },
    {
      "cell_type": "markdown",
      "source": [
        "## 5. Make predictions with your trained model and plot them using the `plot_decision_boundary()` function created in this notebook."
      ],
      "metadata": {
        "id": "8Nwihtomj9JO"
      }
    },
    {
      "cell_type": "code",
      "source": [
        "# Plot the model predictions\n",
        "import numpy as np\n",
        "\n",
        "def plot_decision_boundary(model, X, y):\n",
        "\n",
        "    # Put everything to CPU (works better with NumPy + Matplotlib)\n",
        "    model.to(\"cpu\")\n",
        "    X, y = X.to(\"cpu\"), y.to(\"cpu\")\n",
        "\n",
        "    # Source - https://madewithml.com/courses/foundations/neural-networks/\n",
        "    # (with modifications)\n",
        "    x_min, x_max = X[:, 0].min() - 0.1, X[:, 0].max() + 0.1\n",
        "    y_min, y_max = X[:, 1].min() - 0.1, X[:, 1].max() + 0.1\n",
        "    xx, yy = np.meshgrid(np.linspace(x_min, x_max, 101),\n",
        "                         np.linspace(y_min, y_max, 101))\n",
        "\n",
        "    # Make features\n",
        "    X_to_pred_on = torch.from_numpy(np.column_stack((xx.ravel(), yy.ravel()))).float()\n",
        "\n",
        "    # Make predictions\n",
        "    model.eval()\n",
        "    with torch.inference_mode():\n",
        "        y_logits = model(X_to_pred_on)\n",
        "\n",
        "    # Test for multi-class or binary and adjust logits to prediction labels\n",
        "    if len(torch.unique(y)) > 2:\n",
        "        y_pred = torch.softmax(y_logits, dim=1).argmax(dim=1) # mutli-class\n",
        "    else:\n",
        "        y_pred = torch.round(torch.sigmoid(y_logits)) # binary\n",
        "\n",
        "    # Reshape preds and plot\n",
        "    y_pred = y_pred.reshape(xx.shape).detach().numpy()\n",
        "    plt.contourf(xx, yy, y_pred, cmap=plt.cm.RdYlBu, alpha=0.7)\n",
        "    plt.scatter(X[:, 0], X[:, 1], c=y, s=40, cmap=plt.cm.RdYlBu)\n",
        "    plt.xlim(xx.min(), xx.max())\n",
        "    plt.ylim(yy.min(), yy.max())"
      ],
      "metadata": {
        "id": "0YRzatb8a1P2"
      },
      "execution_count": null,
      "outputs": []
    },
    {
      "cell_type": "code",
      "source": [
        "# Plot decision boundaries for training and test sets\n"
      ],
      "metadata": {
        "id": "PMrcpyirig1d"
      },
      "execution_count": null,
      "outputs": []
    },
    {
      "cell_type": "markdown",
      "source": [
        "## 6. Replicate the Tanh (hyperbolic tangent) activation function in pure PyTorch.\n",
        "  * Feel free to reference the [ML cheatsheet website](https://ml-cheatsheet.readthedocs.io/en/latest/activation_functions.html#tanh) for the formula."
      ],
      "metadata": {
        "id": "EtMYBvtciiAU"
      }
    },
    {
      "cell_type": "code",
      "source": [
        "# Create a straight line tensor\n"
      ],
      "metadata": {
        "id": "BlXaWC5TkEUE"
      },
      "execution_count": null,
      "outputs": []
    },
    {
      "cell_type": "code",
      "source": [
        "# Test torch.tanh() on the tensor and plot it\n"
      ],
      "metadata": {
        "id": "vZPCcQmIkZjO"
      },
      "execution_count": null,
      "outputs": []
    },
    {
      "cell_type": "code",
      "source": [
        "# Replicate torch.tanh() and plot it\n"
      ],
      "metadata": {
        "id": "J-ne__Kjkdc1"
      },
      "execution_count": null,
      "outputs": []
    },
    {
      "cell_type": "markdown",
      "source": [
        "## 7. Create a multi-class dataset using the [spirals data creation function from CS231n](https://cs231n.github.io/neural-networks-case-study/) (see below for the code).\n",
        "  * Split the data into training and test sets (80% train, 20% test) as well as turn it into PyTorch tensors.\n",
        "  * Construct a model capable of fitting the data (you may need a combination of linear and non-linear layers).\n",
        "  * Build a loss function and optimizer capable of handling multi-class data (optional extension: use the Adam optimizer instead of SGD, you may have to experiment with different values of the learning rate to get it working).\n",
        "  * Make a training and testing loop for the multi-class data and train a model on it to reach over 95% testing accuracy (you can use any accuracy measuring function here that you like) - 1000 epochs should be plenty.\n",
        "  * Plot the decision boundaries on the spirals dataset from your model predictions, the `plot_decision_boundary()` function should work for this dataset too."
      ],
      "metadata": {
        "id": "Lbt1bNcWk5G9"
      }
    },
    {
      "cell_type": "code",
      "source": [
        "# Code for creating a spiral dataset from CS231n\n",
        "import numpy as np\n",
        "import matplotlib.pyplot as plt\n",
        "RANDOM_SEED = 42\n",
        "np.random.seed(RANDOM_SEED)\n",
        "N = 100 # number of points per class\n",
        "D = 2 # dimensionality\n",
        "K = 3 # number of classes\n",
        "X = np.zeros((N*K,D)) # data matrix (each row = single example)\n",
        "y = np.zeros(N*K, dtype='uint8') # class labels\n",
        "for j in range(K):\n",
        "  ix = range(N*j,N*(j+1))\n",
        "  r = np.linspace(0.0,1,N) # radius\n",
        "  t = np.linspace(j*4,(j+1)*4,N) + np.random.randn(N)*0.2 # theta\n",
        "  X[ix] = np.c_[r*np.sin(t), r*np.cos(t)]\n",
        "  y[ix] = j\n",
        "# lets visualize the data\n",
        "plt.scatter(X[:, 0], X[:, 1], c=y, s=40, cmap=plt.cm.RdYlBu)\n",
        "plt.show()"
      ],
      "metadata": {
        "colab": {
          "base_uri": "https://localhost:8080/",
          "height": 265
        },
        "id": "tU-UNZsKlJls",
        "outputId": "8b7b745a-070d-4ecb-c639-c4ee4d8eae06"
      },
      "execution_count": null,
      "outputs": [
        {
          "output_type": "display_data",
          "data": {
            "image/png": "[encoded data removed]",
            "text/plain": [
              "<Figure size 432x288 with 1 Axes>"
            ]
          },
          "metadata": {
            "needs_background": "light"
          }
        }
      ]
    },
    {
      "cell_type": "code",
      "source": [
        "# Turn data into tensors\n",
        "import torch\n",
        "X = torch.from_numpy(X).type(torch.float) # features as float32\n",
        "y = torch.from_numpy(y).type(torch.LongTensor) # labels need to be of type long\n",
        "\n",
        "# Create train and test splits\n",
        "from sklearn.model_selection import train_test_split\n"
      ],
      "metadata": {
        "id": "OWVrmkEyl0VP"
      },
      "execution_count": null,
      "outputs": []
    },
    {
      "cell_type": "code",
      "source": [
        "# Let's calculuate the accuracy for when we fit our model\n",
        "!pip -q install torchmetrics # colab doesn't come with torchmetrics\n",
        "from torchmetrics import Accuracy\n",
        "\n",
        "## TODO: uncomment the two lines below to send the accuracy function to the device\n",
        "# acc_fn = Accuracy(task=\"multiclass\", num_classes=4).to(device)\n",
        "# acc_fn"
      ],
      "metadata": {
        "id": "a-v-7f0op0tG"
      },
      "execution_count": null,
      "outputs": []
    },
    {
      "cell_type": "code",
      "source": [
        "# Prepare device agnostic code\n",
        "# device = \"cuda\" if torch.cuda.is_available() else \"cpu\"\n",
        "\n",
        "# Create model by subclassing nn.Module\n",
        "\n",
        "\n",
        "\n",
        "# Instantiate model and send it to device\n"
      ],
      "metadata": {
        "id": "DB3u3ldumapf"
      },
      "execution_count": null,
      "outputs": []
    },
    {
      "cell_type": "code",
      "source": [
        "# Setup data to be device agnostic\n",
        "\n",
        "\n",
        "# Print out first 10 untrained model outputs (forward pass)\n",
        "print(\"Logits:\")\n",
        "## Your code here ##\n",
        "\n",
        "print(\"Pred probs:\")\n",
        "## Your code here ##\n",
        "\n",
        "print(\"Pred labels:\")\n",
        "## Your code here ##"
      ],
      "metadata": {
        "colab": {
          "base_uri": "https://localhost:8080/"
        },
        "id": "QE7XWSSunMTS",
        "outputId": "00b31909-87c9-41e3-9dbb-fb4c4bd3aabd"
      },
      "execution_count": null,
      "outputs": [
        {
          "output_type": "stream",
          "name": "stdout",
          "text": [
            "Logits:\n",
            "Pred probs:\n",
            "Pred labels:\n"
          ]
        }
      ]
    },
    {
      "cell_type": "code",
      "source": [
        "# Setup loss function and optimizer\n",
        "# loss_fn =\n",
        "# optimizer ="
      ],
      "metadata": {
        "id": "54EqLRKLo0AW"
      },
      "execution_count": null,
      "outputs": []
    },
    {
      "cell_type": "code",
      "source": [
        "# Build a training loop for the model\n",
        "\n",
        "# Loop over data\n",
        "\n",
        "\n",
        "  ## Training\n",
        "\n",
        "  # 1. Forward pass\n",
        "\n",
        "\n",
        "  # 2. Calculate the loss\n",
        "\n",
        "\n",
        "  # 3. Optimizer zero grad\n",
        "\n",
        "\n",
        "  # 4. Loss backward\n",
        "\n",
        "\n",
        "  # 5. Optimizer step\n",
        "\n",
        "\n",
        "  ## Testing\n",
        "\n",
        "\n",
        "    # 1. Forward pass\n",
        "\n",
        "    # 2. Caculate loss and acc\n",
        "\n",
        "  # Print out what's happening every 100 epochs\n",
        ""
      ],
      "metadata": {
        "id": "vIlExkUHnmxi"
      },
      "execution_count": null,
      "outputs": []
    },
    {
      "cell_type": "code",
      "source": [
        "# Plot decision boundaries for training and test sets\n"
      ],
      "metadata": {
        "id": "JrwVRbaE0keT"
      },
      "execution_count": null,
      "outputs": []
    }
  ]
}